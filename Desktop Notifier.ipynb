{
 "cells": [
  {
   "cell_type": "code",
   "execution_count": 47,
   "metadata": {},
   "outputs": [],
   "source": [
    "import requests\n",
    "from bs4 import BeautifulSoup\n",
    "\n",
    "# url of news rss feed\n",
    "RSS_FEED_URL = \"https://www.hindustantimes.com/feeds/rss/business/rssfeed.xml\"    \n",
    "    \n",
    "def loadRSS():\n",
    "    '''\n",
    "    utility function to load RSS feed \n",
    "    '''\n",
    "    agent = {\"User-Agent\":\"Mozilla/5.0\"}\n",
    "    source=requests.get(RSS_FEED_URL, headers=agent).text\n",
    "    soup = BeautifulSoup(source, features='xml')\n",
    "    # return response content\n",
    "    return soup\n",
    "        \n",
    "\n",
    "def parseXML(rss):\n",
    "    '''\n",
    "    utility function to parse XML format rss feed\n",
    "    '''\n",
    "    # create empty list for news items\n",
    "    newsitems = []\n",
    "    news_snips=rss.find_all('item')\n",
    "    # iterate news items\n",
    "    for item in news_snips:\n",
    "        news = {}\n",
    "        title = item.find('title').text\n",
    "        description = item.find('description').text \n",
    "        news = {\n",
    "            'title': title,\n",
    "            'description': description\n",
    "            }\n",
    "        newsitems.append(news)\n",
    " \n",
    "    # return news items list\n",
    "    return newsitems\n",
    " \n",
    "    \n",
    "def business():\n",
    "    # load rss feed\n",
    "    rss = loadRSS()\n",
    "    # parse XML\n",
    "    newsitems = parseXML(rss)\n",
    "    return newsitems"
   ]
  },
  {
   "cell_type": "code",
   "execution_count": null,
   "metadata": {},
   "outputs": [],
   "source": [
    "# Converting PNG image to icon\n",
    "from PIL import Image\n",
    "filename = \"news_icon.png\"\n",
    "img = Image.open(filename)\n",
    "img.save('news_icon.ico')"
   ]
  },
  {
   "cell_type": "code",
   "execution_count": null,
   "metadata": {},
   "outputs": [],
   "source": [
    "import time\n",
    "from pynotifier import Notification\n",
    "\n",
    "# fetch news items\n",
    "newsitems = business()\n",
    "\n",
    "for newsitem in newsitems:\n",
    "    # update notification data for Notification object \n",
    "    Notification(\n",
    "    title=newsitem['title'],\n",
    "    description=newsitem['description'],\n",
    "    icon_path=\"news_icon.ico\",\n",
    "    duration=15,\n",
    "    urgency='normal'\n",
    "    ).send()\n",
    "    # short delay between notifications\n",
    "    time.sleep(60)"
   ]
  },
  {
   "cell_type": "code",
   "execution_count": 12,
   "metadata": {},
   "outputs": [],
   "source": [
    "\n"
   ]
  },
  {
   "cell_type": "code",
   "execution_count": null,
   "metadata": {},
   "outputs": [],
   "source": []
  }
 ],
 "metadata": {
  "kernelspec": {
   "display_name": "Python 3",
   "language": "python",
   "name": "python3"
  },
  "language_info": {
   "codemirror_mode": {
    "name": "ipython",
    "version": 3
   },
   "file_extension": ".py",
   "mimetype": "text/x-python",
   "name": "python",
   "nbconvert_exporter": "python",
   "pygments_lexer": "ipython3",
   "version": "3.7.3"
  }
 },
 "nbformat": 4,
 "nbformat_minor": 2
}
